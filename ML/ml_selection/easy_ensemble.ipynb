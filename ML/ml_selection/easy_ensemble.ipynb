{
 "cells": [
  {
   "cell_type": "code",
   "execution_count": 3,
   "metadata": {},
   "outputs": [
    {
     "name": "stdout",
     "output_type": "stream",
     "text": [
      "Accuracy: 0.5877530864197531\n",
      "Precision: 0.37470355731225297\n",
      "Recall: 0.6524432209222298\n",
      "F1 Score: 0.47602309816721067\n"
     ]
    }
   ],
   "source": [
    "import pandas as pd\n",
    "from imblearn.ensemble import EasyEnsembleClassifier\n",
    "from sklearn.model_selection import train_test_split\n",
    "from sklearn.preprocessing import StandardScaler\n",
    "from sklearn.metrics import accuracy_score, precision_score, recall_score, f1_score\n",
    "from xgboost import XGBClassifier\n",
    "import pre_data as eda\n",
    "\n",
    "# 데이터 로드 및 전처리\n",
    "data = pd.read_csv('./data/train.csv', encoding='cp949')\n",
    "preprocessed_data = eda.preprocessing(data)\n",
    "\n",
    "# 1. 데이터 전처리 (범주형 데이터 변환 및 스케일링)\n",
    "object_columns = preprocessed_data.select_dtypes(include=['object'])\n",
    "convert_data, _ = eda.convert_category_into_integer(preprocessed_data, object_columns)\n",
    "\n",
    "# 타겟 변수 및 독립 변수 설정\n",
    "X = convert_data.drop('Churn', axis=1)\n",
    "y = convert_data['Churn'].astype(int)\n",
    "\n",
    "# 데이터셋 분할\n",
    "X_train, X_test, y_train, y_test = train_test_split(X, y, test_size=0.2, random_state=0)\n",
    "\n",
    "# 데이터 스케일링\n",
    "scaler = StandardScaler()\n",
    "X_train_scaled = pd.DataFrame(scaler.fit_transform(X_train), columns=X.columns)\n",
    "X_test_scaled = pd.DataFrame(scaler.transform(X_test), columns=X.columns)\n",
    "\n",
    "# 인덱스 재설정 (reset_index)\n",
    "X_train = X_train_scaled.reset_index(drop=True)\n",
    "X_test = X_test_scaled.reset_index(drop=True)\n",
    "y_train = y_train.reset_index(drop=True)\n",
    "y_test = y_test.reset_index(drop=True)\n",
    "\n",
    "# EasyEnsembleClassifier 모델 선언\n",
    "model = EasyEnsembleClassifier(\n",
    "    n_estimators=30, \n",
    "    random_state=0,\n",
    "    n_jobs=-1\n",
    "    )\n",
    "\n",
    "# 모델 학습\n",
    "model.fit(X_train, y_train)\n",
    "\n",
    "# 테스트 데이터 예측\n",
    "y_pred = model.predict(X_test)\n",
    "\n",
    "# 성능 평가\n",
    "accuracy = accuracy_score(y_test, y_pred)\n",
    "precision = precision_score(y_test, y_pred)\n",
    "recall = recall_score(y_test, y_pred)\n",
    "f1 = f1_score(y_test, y_pred)\n",
    "\n",
    "# 성능 결과 출력\n",
    "print(f\"Accuracy: {accuracy}\")\n",
    "print(f\"Precision: {precision}\")\n",
    "print(f\"Recall: {recall}\")\n",
    "print(f\"F1 Score: {f1}\")\n"
   ]
  }
 ],
 "metadata": {
  "kernelspec": {
   "display_name": "deep_learning",
   "language": "python",
   "name": "python3"
  },
  "language_info": {
   "codemirror_mode": {
    "name": "ipython",
    "version": 3
   },
   "file_extension": ".py",
   "mimetype": "text/x-python",
   "name": "python",
   "nbconvert_exporter": "python",
   "pygments_lexer": "ipython3",
   "version": "3.9.19"
  }
 },
 "nbformat": 4,
 "nbformat_minor": 2
}
